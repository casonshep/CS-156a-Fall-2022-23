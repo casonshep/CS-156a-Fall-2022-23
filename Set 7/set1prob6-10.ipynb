{
 "cells": [
  {
   "cell_type": "code",
   "execution_count": 1,
   "id": "9dd207d8-03c0-4afb-8194-d21cd2dd534a",
   "metadata": {},
   "outputs": [],
   "source": [
    "import matplotlib.pyplot as plt\n",
    "import numpy as np\n",
    "from random import uniform\n",
    "import random\n",
    "def PLA_func():\n",
    "    \n",
    "    #SETUP\n",
    "    x_1 = uniform(-1, 1)\n",
    "    y_1 = uniform(-1, 1)\n",
    "\n",
    "    x_2 = uniform(-1, 1)\n",
    "    y_2 = uniform(-1, 1)\n",
    "    \n",
    "    a, b = np.polyfit([x_1, y_1], [x_2, y_2], 1)\n",
    "    \n",
    "    def f(x): #target function\n",
    "        return (a*x + b)\n",
    "\n",
    "    def sign(x):\n",
    "        if x == 0:\n",
    "            return 0\n",
    "        elif x > 0:\n",
    "            return 1\n",
    "        else:\n",
    "            return -1\n",
    "        \n",
    "    def reclassify(w, PLA, points):\n",
    "        for idx in range(0, len(PLA)):\n",
    "            if np.dot(points[idx], w) > 0:\n",
    "                PLA[idx] = 1\n",
    "            elif np.dot(points[idx], w) < 0:\n",
    "                PLA[idx] = -1\n",
    "            else:\n",
    "                PLA[idx] = 0\n",
    "            \n",
    "    N = 100\n",
    "    y_target = [0] * N\n",
    "    point_list = [] * N\n",
    "    classification_list = [0] * N\n",
    "    PLA = [0]*N\n",
    "\n",
    "    for i in range(0,N):\n",
    "        point_list.append([1, uniform(-1, 1), uniform(-1, 1)])\n",
    "        y_target[i] = f(point_list[i][1])\n",
    "                                \n",
    "    y_data = [x[2] for x in point_list] \n",
    "\n",
    "    for i in range(0,N):\n",
    "        if y_data[i] > y_target[i]:\n",
    "            classification_list[i] = 1\n",
    "        else:\n",
    "            classification_list[i] = -1\n",
    "            \n",
    "    w = [0,0,0] # g(x) \n",
    "    itter_count = 0\n",
    "\n",
    "    while PLA != classification_list:\n",
    "        itter_count = itter_count + 1\n",
    "        wrong = []\n",
    "        for p in range(0, N):\n",
    "            if classification_list[p] != PLA[p]:\n",
    "                wrong.append(p)\n",
    "        index_point = random.choice(wrong)\n",
    "        random_point_x = point_list[index_point]        \n",
    "        #grab sign of correct classification\n",
    "        temp_sign = classification_list[index_point]\n",
    "        # unpack and repack weight tuple\n",
    "        w = [w[0] + temp_sign*random_point_x[0], w[1] + temp_sign*random_point_x[1], w[2] + temp_sign*random_point_x[2]]\n",
    "        reclassify(w, PLA, point_list)\n",
    "\n",
    "    large_tuple_list = []\n",
    "    large_y_target = [0] *1000\n",
    "    for i in range(0, 1000):\n",
    "        large_tuple_list.append([1, uniform(-1, 1), uniform(-1, 1)])\n",
    "        large_y_target[i] = f(large_tuple_list[i][1])\n",
    "\n",
    "    large_y = [x[2] for x in large_tuple_list] \n",
    "    \n",
    "    large_class = [0]*1000\n",
    "    large_PLA = [0]*1000\n",
    "    \n",
    "    for i in range(0, 1000):\n",
    "        if large_y[i] > large_y_target[i]:\n",
    "            large_class[i] = 1\n",
    "        else:\n",
    "            large_class[i] = -1\n",
    "            \n",
    "    reclassify(w, large_PLA, large_tuple_list)        \n",
    "    count = 0\n",
    "    for i in range(0, 1000):\n",
    "        if large_PLA[i] != large_class[i]:\n",
    "            count = count + 1\n",
    "    \n",
    "    return count/1000"
   ]
  },
  {
   "cell_type": "code",
   "execution_count": null,
   "id": "17a140b7-2fa8-4260-9d8e-68b6f7029282",
   "metadata": {},
   "outputs": [],
   "source": []
  },
  {
   "cell_type": "code",
   "execution_count": 4,
   "id": "74020484-141a-40a0-afe3-606cd0e40f18",
   "metadata": {},
   "outputs": [
    {
     "name": "stdout",
     "output_type": "stream",
     "text": [
      "0.022800000000000004\n"
     ]
    }
   ],
   "source": [
    "avg = 0\n",
    "for x in range(0, 5):\n",
    "    avg = avg + PLA_func()\n",
    "print(avg/5)\n",
    "\n",
    "# 29.609 answer bclassification_list\n",
    "\n",
    "# 100 - b\n",
    "# answer was 111 for 100 iterations"
   ]
  },
  {
   "cell_type": "code",
   "execution_count": 47,
   "id": "172c2b0c-34ff-490f-9faa-d65dca5428e9",
   "metadata": {},
   "outputs": [
    {
     "name": "stdout",
     "output_type": "stream",
     "text": [
      "0.013812999999999956\n"
     ]
    }
   ],
   "source": [
    "avg = 0\n",
    "for x in range(0, 1000):\n",
    "    avg = avg + PLA_func()\n",
    "print(avg/1000)\n",
    "# answer .01 [b]"
   ]
  }
 ],
 "metadata": {
  "kernelspec": {
   "display_name": "Python 3 (ipykernel)",
   "language": "python",
   "name": "python3"
  },
  "language_info": {
   "codemirror_mode": {
    "name": "ipython",
    "version": 3
   },
   "file_extension": ".py",
   "mimetype": "text/x-python",
   "name": "python",
   "nbconvert_exporter": "python",
   "pygments_lexer": "ipython3",
   "version": "3.9.12"
  }
 },
 "nbformat": 4,
 "nbformat_minor": 5
}
