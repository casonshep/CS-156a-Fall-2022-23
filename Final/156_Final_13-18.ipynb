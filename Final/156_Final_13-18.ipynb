{
 "cells": [
  {
   "cell_type": "code",
   "execution_count": 78,
   "id": "6ed83ebe-faff-48de-9cb8-f9183311c627",
   "metadata": {},
   "outputs": [],
   "source": [
    "def sign(x):\n",
    "    if x > 0:\n",
    "        return 1\n",
    "    elif x < 0:\n",
    "        return -1\n",
    "    else:\n",
    "        return 0\n",
    "    \n",
    "def count_diff(list_1, list_2):\n",
    "    count = 0\n",
    "    for x in range(0, len(list_1)):\n",
    "        if list_1[x] != list_2[x]:\n",
    "            count += 1\n",
    "    return count\n",
    "\n",
    "def build_phi(points, clusters, centers):\n",
    "    #BUILD PHI TO GET WEIGHTS\n",
    "    phi = []\n",
    "    for m in range(0, len(points)):\n",
    "        point = points[m]\n",
    "        row = []\n",
    "        for n in range(0, clusters):\n",
    "            center = centers[n]\n",
    "            temp = numpy.exp(gam*-1 * numpy.linalg.norm(numpy.subtract(point, center))* numpy.linalg.norm(numpy.subtract(point, center)))\n",
    "            row.append(temp)\n",
    "        phi.append(row)\n",
    "    return phi"
   ]
  },
  {
   "cell_type": "code",
   "execution_count": 83,
   "id": "d033ea90-b2fc-458b-aaad-ee08759f3d88",
   "metadata": {},
   "outputs": [
    {
     "name": "stdout",
     "output_type": "stream",
     "text": [
      "0.014000000000000005\n"
     ]
    }
   ],
   "source": [
    "import numpy\n",
    "from random import uniform\n",
    "from sklearn import svm, cluster\n",
    "import math\n",
    "\n",
    "N = 100\n",
    "gam = 1.5\n",
    "clusters = 9\n",
    "iterations = 1000\n",
    "\n",
    "\n",
    "E_i = 0\n",
    "\n",
    "for i in range(0, iterations):\n",
    "    data = [[uniform(-1, 1), uniform(-1, 1)] for x in range(0, N)]\n",
    "    data_out = [[uniform(-1, 1), uniform(-1, 1)] for x in range(0, N)]\n",
    "\n",
    "    def f(point):\n",
    "        return sign(point[1] - point[0] + 0.25 * numpy.sin(numpy.pi*point[0]))\n",
    "\n",
    "    class_data = [f(point) for point in data]\n",
    "    class_data_out = [f(point) for point in data_out]\n",
    "\n",
    "    \"\"\"clf = svm.SVC(kernel=\"rbf\", C=math.inf, gamma=gam, coef0 = 1)\n",
    "    clf.fit(data, class_data)  \"\"\"\n",
    "\n",
    "    Kmeans = cluster.KMeans(n_clusters=clusters, init='random').fit(data)\n",
    "\n",
    "    for i in range(0,clusters):\n",
    "        if (i not in Kmeans.labels_):\n",
    "            iterations += 1\n",
    "            continue\n",
    "\n",
    "    phi = numpy.array(build_phi(data, clusters, Kmeans.cluster_centers_))\n",
    "    class_data = numpy.array(class_data)\n",
    "\n",
    "    w = numpy.matmul(numpy.matmul(numpy.linalg.pinv(numpy.matmul(phi.T, phi)), phi.T), class_data.T)\n",
    "\n",
    "    #KMEANS OUT PREDICTION\n",
    "    phi_out = numpy.array(build_phi(data_out, clusters, Kmeans.cluster_centers_))\n",
    "\n",
    "    y_out = numpy.matmul(phi_out, w.T)\n",
    "    y_out = [sign(x) for x in y_out]\n",
    "\n",
    "    y_in = numpy.matmul(phi, w.T)\n",
    "    y_in = [sign(x) for x in y_in]\n",
    "\n",
    "    E_out_Kmeans = count_diff(y_out, class_data_out)/len(y_out)\n",
    "    E_in_Kmeans = count_diff(y_in, class_data)/len(y_in)\n",
    "    if E_in_Kmeans == 0.0:\n",
    "        E_i += 1/iterations\n",
    "\n",
    "print(E_i)"
   ]
  }
 ],
 "metadata": {
  "kernelspec": {
   "display_name": "Python 3 (ipykernel)",
   "language": "python",
   "name": "python3"
  },
  "language_info": {
   "codemirror_mode": {
    "name": "ipython",
    "version": 3
   },
   "file_extension": ".py",
   "mimetype": "text/x-python",
   "name": "python",
   "nbconvert_exporter": "python",
   "pygments_lexer": "ipython3",
   "version": "3.9.12"
  }
 },
 "nbformat": 4,
 "nbformat_minor": 5
}
