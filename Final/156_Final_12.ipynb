{
 "cells": [
  {
   "cell_type": "code",
   "execution_count": 4,
   "id": "4f8e0737-039c-4291-8a9f-9a5204cfa019",
   "metadata": {},
   "outputs": [
    {
     "name": "stdout",
     "output_type": "stream",
     "text": [
      "[[ 0.  1.]\n",
      " [ 0. -1.]\n",
      " [-1.  0.]\n",
      " [ 0.  2.]\n",
      " [ 0. -2.]]\n"
     ]
    }
   ],
   "source": [
    "from sklearn import svm\n",
    "import numpy\n",
    "from math import inf\n",
    "\n",
    "data = [[1, 0], [0, 1], [0, -1], [-1, 0], [0, 2], [0, -2], [-2, 0]]\n",
    "y = [-1, -1, -1, 1, 1, 1, 1]\n",
    "\n",
    "clf = svm.SVC(kernel=\"poly\", C=inf, gamma=1, coef0=1)\n",
    "clf.fit(data, y)  \n",
    "print(clf.support_vectors_)"
   ]
  },
  {
   "cell_type": "code",
   "execution_count": null,
   "id": "837f44ac-59a5-409a-a985-a82708a0e33d",
   "metadata": {},
   "outputs": [],
   "source": []
  }
 ],
 "metadata": {
  "kernelspec": {
   "display_name": "Python 3 (ipykernel)",
   "language": "python",
   "name": "python3"
  },
  "language_info": {
   "codemirror_mode": {
    "name": "ipython",
    "version": 3
   },
   "file_extension": ".py",
   "mimetype": "text/x-python",
   "name": "python",
   "nbconvert_exporter": "python",
   "pygments_lexer": "ipython3",
   "version": "3.9.12"
  }
 },
 "nbformat": 4,
 "nbformat_minor": 5
}
