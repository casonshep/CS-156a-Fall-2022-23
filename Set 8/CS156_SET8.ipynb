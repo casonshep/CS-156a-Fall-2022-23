{
 "cells": [
  {
   "cell_type": "code",
   "execution_count": 1,
   "id": "21c7a876-20f8-4df6-a3db-3260427f7234",
   "metadata": {},
   "outputs": [],
   "source": [
    "train_data = []\n",
    "\n",
    "with open('features.train') as feat:\n",
    "    for row in feat.readlines():\n",
    "        row = row [:len(row)-1]\n",
    "        row = row.split(' ')\n",
    "        row1 = [x for x in row if x != '']\n",
    "        row1[0] = float(row1[0])\n",
    "        row1[1] = float(row1[1])\n",
    "        row1[2] = float(row1[2])\n",
    "        train_data.append(row1)\n",
    "\n",
    "test_data = []\n",
    "\n",
    "with open('features.test') as feat:\n",
    "    for row in feat.readlines():\n",
    "        row = row [:len(row)-1]\n",
    "        row = row.split(' ')\n",
    "        row1 = [x for x in row if x != '']\n",
    "        row1[0] = float(row1[0])\n",
    "        row1[1] = float(row1[1])\n",
    "        row1[2] = float(row1[2])\n",
    "        test_data.append(row1)"
   ]
  },
  {
   "cell_type": "code",
   "execution_count": null,
   "id": "68f5ed96-461d-4fd7-96c5-0bda1ca50eff",
   "metadata": {},
   "outputs": [],
   "source": []
  },
  {
   "cell_type": "code",
   "execution_count": 2,
   "id": "84ac0789-68b0-44a5-a9f9-f44659c0e299",
   "metadata": {},
   "outputs": [],
   "source": [
    "def versus_all(n, data_set):\n",
    "    #splits data and classification info\n",
    "    data = [[data_set[x][1], data_set[x][2]] for x in range(0, len(data_set))]\n",
    "    classifier = [1 if x[0] == n else -1 for x in data_set]\n",
    "    return classifier, data\n",
    "\n",
    "def count_diff(list_1, list_2):\n",
    "    count = 0\n",
    "    for x in range(0, len(list_1)):\n",
    "        if list_1[x] != list_2[x]:\n",
    "            count += 1\n",
    "    return count"
   ]
  },
  {
   "cell_type": "code",
   "execution_count": 3,
   "id": "40773c98-edf9-4966-b8c3-f35243633376",
   "metadata": {},
   "outputs": [
    {
     "name": "stdout",
     "output_type": "stream",
     "text": [
      "0.014264161294746948\n",
      "0.09024825126868742\n",
      "0.07625840076807022\n",
      "0.08846523110684405\n",
      "0.08832807570977919\n"
     ]
    }
   ],
   "source": [
    "from sklearn import svm\n",
    "for vers in [1, 3, 5, 7, 9]:\n",
    "    clf = svm.SVC(kernel=\"poly\", C=.01, degree=2, gamma=1)\n",
    "    true_class, points = versus_all(vers, train_data)\n",
    "    clf.fit(points, true_class)  \n",
    "    sup_vectors = clf.support_vectors_\n",
    "    clf_guess = clf.predict(points)\n",
    "    E_in = count_diff(clf_guess, true_class)/len(true_class)\n",
    "    print(E_in)\n"
   ]
  },
  {
   "cell_type": "code",
   "execution_count": 43,
   "id": "3022e62a-0563-4295-8c29-63a844a8f178",
   "metadata": {},
   "outputs": [
    {
     "name": "stdout",
     "output_type": "stream",
     "text": [
      "Degree value:2\n",
      "Support Vectors:24\n",
      "E_in:0.0032030749519538757\n",
      "E_out:0.018867924528301886\n",
      "Degree value:5\n",
      "Support Vectors:21\n",
      "E_in:0.0032030749519538757\n",
      "E_out:0.02122641509433962\n"
     ]
    }
   ],
   "source": [
    "# 1 versus 5 Classification\n",
    "from sklearn import svm\n",
    "\n",
    "train_1v5 = []\n",
    "for x in train_data:\n",
    "    if (x[0] == 1 or x[0] == 5):\n",
    "        train_1v5.append(x)\n",
    "        \n",
    "test_1v5 = []\n",
    "class_1v5 = []\n",
    "\n",
    "for x in test_data:\n",
    "    if (x[0] == 1 or x[0] == 5):\n",
    "        test_1v5.append(x[1:])\n",
    "        if x[0] == 1:\n",
    "            class_1v5.append(1)\n",
    "        else:\n",
    "            class_1v5.append(-1)            \n",
    "\n",
    "for d in [2, 5]:\n",
    "    clf = svm.SVC(kernel=\"poly\", C=1, degree=d, gamma=1, coef0=1)\n",
    "    true_class, points = versus_all(1, train_1v5)\n",
    "    clf.fit(points, true_class)  \n",
    "    sup_vectors = clf.support_vectors_\n",
    "    E_in = count_diff(clf.predict(points), true_class)/len(true_class)\n",
    "    E_out = count_diff(clf.predict(test_1v5), class_1v5)/len(class_1v5)\n",
    "    print(\"Degree value:\" + str(d))\n",
    "    print(\"Support Vectors:\" + str(len(sup_vectors)))\n",
    "    print(\"E_in:\"+ str(E_in))\n",
    "    print(\"E_out:\"+ str(E_out))\n",
    "    "
   ]
  },
  {
   "cell_type": "code",
   "execution_count": 69,
   "id": "683214f0-31df-4bf0-be6f-9acf54f469ec",
   "metadata": {},
   "outputs": [
    {
     "name": "stdout",
     "output_type": "stream",
     "text": [
      "[34, 54, 1, 3, 8]\n"
     ]
    }
   ],
   "source": [
    "# 1 versus 5 Classification\n",
    "from sklearn import svm\n",
    "import numpy as np\n",
    "from random import uniform\n",
    "\n",
    "train_1v5 = []\n",
    "for x in train_data:\n",
    "    if (x[0] == 1 or x[0] == 5):\n",
    "        train_1v5.append(x)\n",
    "\n",
    "selection = [0, 0, 0, 0, 0]\n",
    "avg_E_cv = 0\n",
    "for i in range(0, 100):\n",
    "    idx_array = [int(uniform(0, len(train_1v5))) for x in range(0, int(len(train_1v5)/10))]\n",
    "\n",
    "    true_class, points = versus_all(1, train_1v5)\n",
    "\n",
    "    fold_train = []\n",
    "    fold_train_class = []\n",
    "    fold_validation = []\n",
    "    fold_validation_class = []\n",
    "\n",
    "    for idx, point in enumerate(train_1v5):\n",
    "        if idx in idx_array:\n",
    "            fold_validation.append(points[idx])\n",
    "            fold_validation_class.append(true_class[idx])\n",
    "        else:\n",
    "            fold_train.append(points[idx])\n",
    "            fold_train_class.append(true_class[idx])\n",
    "\n",
    "    cv = []\n",
    "    c_values =[.0001, .001, .01, .1, 1]\n",
    "    for c in c_values:\n",
    "        clf = svm.SVC(kernel=\"poly\", C=c, degree=2, gamma=1, coef0=1)\n",
    "        clf.fit(fold_train, fold_train_class)  \n",
    "        E_cv = count_diff(clf.predict(fold_validation), fold_validation_class)/len(fold_validation)\n",
    "        cv.append(E_cv)\n",
    "    \n",
    "    selection[cv.index(min(cv))] += 1\n",
    "\n",
    "print(selection)"
   ]
  },
  {
   "cell_type": "code",
   "execution_count": 72,
   "id": "4058f6fb-c437-4250-a950-3203b1a04779",
   "metadata": {},
   "outputs": [
    {
     "name": "stdout",
     "output_type": "stream",
     "text": [
      "0.004834448959557935\n"
     ]
    }
   ],
   "source": [
    "from sklearn import svm\n",
    "import numpy as np\n",
    "from random import uniform\n",
    "\n",
    "train_1v5 = []\n",
    "for x in train_data:\n",
    "    if (x[0] == 1 or x[0] == 5):\n",
    "        train_1v5.append(x)\n",
    "\n",
    "avg_E_cv = 0\n",
    "for i in range(0, 1000):\n",
    "    idx_array = [int(uniform(0, len(train_1v5))) for x in range(0, int(len(train_1v5)/10))]\n",
    "\n",
    "    true_class, points = versus_all(1, train_1v5)\n",
    "\n",
    "    fold_train = []\n",
    "    fold_train_class = []\n",
    "    fold_validation = []\n",
    "    fold_validation_class = []\n",
    "\n",
    "    for idx, point in enumerate(train_1v5):\n",
    "        if idx in idx_array:\n",
    "            fold_validation.append(points[idx])\n",
    "            fold_validation_class.append(true_class[idx])\n",
    "        else:\n",
    "            fold_train.append(points[idx])\n",
    "            fold_train_class.append(true_class[idx])\n",
    "\n",
    "    clf = svm.SVC(kernel=\"poly\", C=.001, degree=2, gamma=1, coef0=1)\n",
    "    clf.fit(fold_train, fold_train_class)  \n",
    "    E_cv = count_diff(clf.predict(fold_validation), fold_validation_class)/len(fold_validation)\n",
    "    avg_E_cv += E_cv/1000\n",
    "print(avg_E_cv)"
   ]
  },
  {
   "cell_type": "code",
   "execution_count": 73,
   "id": "f830683b-b7e0-41ce-b5a5-ee1edb36c196",
   "metadata": {
    "tags": []
   },
   "outputs": [
    {
     "name": "stdout",
     "output_type": "stream",
     "text": [
      "C value:0.01\n",
      "E_in:0.003843689942344651\n",
      "E_out:0.02358490566037736\n",
      "C value:1\n",
      "E_in:0.004484304932735426\n",
      "E_out:0.02122641509433962\n",
      "C value:100\n",
      "E_in:0.0032030749519538757\n",
      "E_out:0.018867924528301886\n",
      "C value:10000\n",
      "E_in:0.0025624599615631004\n",
      "E_out:0.02358490566037736\n",
      "C value:1000000\n",
      "E_in:0.0006406149903907751\n",
      "E_out:0.02358490566037736\n"
     ]
    }
   ],
   "source": [
    "# 1 versus 5 Classification\n",
    "from sklearn import svm\n",
    "\n",
    "train_1v5 = []\n",
    "for x in train_data:\n",
    "    if (x[0] == 1 or x[0] == 5):\n",
    "        train_1v5.append(x)\n",
    "        \n",
    "test_1v5 = []\n",
    "class_1v5 = []\n",
    "\n",
    "for x in test_data:\n",
    "    if (x[0] == 1 or x[0] == 5):\n",
    "        test_1v5.append(x[1:])\n",
    "        if x[0] == 1:\n",
    "            class_1v5.append(1)\n",
    "        else:\n",
    "            class_1v5.append(-1)            \n",
    "\n",
    "for c in [0.01, 1, 100, 10000, 1000000]:\n",
    "    clf = svm.SVC(kernel=\"rbf\", C=c, gamma=1, coef0=1)\n",
    "    true_class, points = versus_all(1, train_1v5)\n",
    "    clf.fit(points, true_class)  \n",
    "    E_in = count_diff(clf.predict(points), true_class)/len(true_class)\n",
    "    E_out = count_diff(clf.predict(test_1v5), class_1v5)/len(class_1v5)\n",
    "    print(\"C value:\" + str(c))\n",
    "    print(\"E_in:\"+ str(E_in))\n",
    "    print(\"E_out:\"+ str(E_out))"
   ]
  },
  {
   "cell_type": "code",
   "execution_count": null,
   "id": "3413d0d6-533a-4cfc-956d-c5139e603f77",
   "metadata": {},
   "outputs": [],
   "source": []
  }
 ],
 "metadata": {
  "kernelspec": {
   "display_name": "Python 3 (ipykernel)",
   "language": "python",
   "name": "python3"
  },
  "language_info": {
   "codemirror_mode": {
    "name": "ipython",
    "version": 3
   },
   "file_extension": ".py",
   "mimetype": "text/x-python",
   "name": "python",
   "nbconvert_exporter": "python",
   "pygments_lexer": "ipython3",
   "version": "3.9.12"
  }
 },
 "nbformat": 4,
 "nbformat_minor": 5
}
